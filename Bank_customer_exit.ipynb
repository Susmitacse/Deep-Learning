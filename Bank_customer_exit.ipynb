{
  "nbformat": 4,
  "nbformat_minor": 0,
  "metadata": {
    "colab": {
      "name": "Bank_customer_exit.ipynb",
      "provenance": [],
      "authorship_tag": "ABX9TyNpnKFDl/ahlEfp2KCZ9O2z"
    },
    "kernelspec": {
      "name": "python3",
      "display_name": "Python 3"
    }
  },
  "cells": [
    {
      "cell_type": "code",
      "metadata": {
        "id": "OAOOTnmqfCdH"
      },
      "source": [
        "# Importing the libraries\n",
        "import numpy as np\n",
        "import matplotlib.pyplot as plt\n",
        "import pandas as pd"
      ],
      "execution_count": 1,
      "outputs": []
    },
    {
      "cell_type": "code",
      "metadata": {
        "id": "CTdh1KmssFjC"
      },
      "source": [
        "# Importing the dataset\n",
        "dataset = pd.read_csv('BankCustomers.csv')\n",
        "X = dataset.iloc[:, 3:13]\n",
        "y = dataset.iloc[:, 13]"
      ],
      "execution_count": 2,
      "outputs": []
    },
    {
      "cell_type": "code",
      "metadata": {
        "id": "qIrA3gmBsQk-"
      },
      "source": [
        "\n",
        "\n",
        "states=pd.get_dummies(X['Geography'],drop_first=True)\n",
        "gender=pd.get_dummies(X['Gender'],drop_first=True)\n",
        "\n",
        "#concatenate the remaining dummies columns\n",
        "X=pd.concat([X,states,gender],axis=1)\n",
        "\n",
        "#drop the columns as it is no longer required\n",
        "\n",
        "X=X.drop(['Geography','Gender'],axis=1)"
      ],
      "execution_count": 3,
      "outputs": []
    },
    {
      "cell_type": "code",
      "metadata": {
        "id": "d8mGQVaLt6_-"
      },
      "source": [
        "# Splitting the dataset into the Training set and Test set\n",
        "from sklearn.model_selection import train_test_split\n",
        "X_train, X_test, y_train, y_test = train_test_split(X, y, test_size = 0.2, random_state = 0)\n",
        "\n",
        "# Feature Scaling\n",
        "from sklearn.preprocessing import StandardScaler\n",
        "sc = StandardScaler()\n",
        "X_train = sc.fit_transform(X_train)\n",
        "X_test = sc.transform(X_test)\n"
      ],
      "execution_count": 4,
      "outputs": []
    },
    {
      "cell_type": "code",
      "metadata": {
        "id": "wDp0-W25uCgA"
      },
      "source": [
        "# Importing the Keras libraries and packages\n",
        "import keras\n",
        "from keras.models import Sequential\n",
        "from keras.layers import Dense"
      ],
      "execution_count": 5,
      "outputs": []
    },
    {
      "cell_type": "code",
      "metadata": {
        "id": "RWf6ozA2uDts"
      },
      "source": [
        "classifier = Sequential()"
      ],
      "execution_count": 6,
      "outputs": []
    },
    {
      "cell_type": "code",
      "metadata": {
        "id": "6gipr36DuHCY"
      },
      "source": [
        "\n",
        "# Adding the input layer and the first hidden layer\n",
        "classifier.add(Dense(activation=\"relu\", input_dim=11, units=6, kernel_initializer=\"uniform\"))\n",
        "\n",
        "# Adding the second hidden layer\n",
        "classifier.add(Dense(activation=\"relu\", units=6, kernel_initializer=\"uniform\"))\n",
        "\n",
        "# Adding the output layer\n",
        "classifier.add(Dense(activation=\"sigmoid\", units=1, kernel_initializer=\"uniform\"))\n",
        "\n",
        "# Compiling the ANN\n",
        "classifier.compile(optimizer = 'adam', loss = 'binary_crossentropy', metrics = ['accuracy'])\n",
        "\n"
      ],
      "execution_count": 7,
      "outputs": []
    },
    {
      "cell_type": "code",
      "metadata": {
        "id": "83lRijhVuabX",
        "outputId": "2320b389-ade2-4d61-b5d7-c0a4e02e0836",
        "colab": {
          "base_uri": "https://localhost:8080/",
          "height": 1000
        }
      },
      "source": [
        "# Fitting the ANN to the Training set\n",
        "classifier.fit(X_train, y_train, batch_size=10, epochs=50)\n",
        "\n",
        "\n"
      ],
      "execution_count": 8,
      "outputs": [
        {
          "output_type": "stream",
          "text": [
            "Epoch 1/50\n",
            "800/800 [==============================] - 1s 923us/step - loss: 0.4814 - accuracy: 0.7955\n",
            "Epoch 2/50\n",
            "800/800 [==============================] - 1s 865us/step - loss: 0.4296 - accuracy: 0.7960\n",
            "Epoch 3/50\n",
            "800/800 [==============================] - 1s 878us/step - loss: 0.4238 - accuracy: 0.7960\n",
            "Epoch 4/50\n",
            "800/800 [==============================] - 1s 874us/step - loss: 0.4194 - accuracy: 0.8151\n",
            "Epoch 5/50\n",
            "800/800 [==============================] - 1s 890us/step - loss: 0.4173 - accuracy: 0.8261\n",
            "Epoch 6/50\n",
            "800/800 [==============================] - 1s 862us/step - loss: 0.4152 - accuracy: 0.8278\n",
            "Epoch 7/50\n",
            "800/800 [==============================] - 1s 878us/step - loss: 0.4134 - accuracy: 0.8313\n",
            "Epoch 8/50\n",
            "800/800 [==============================] - 1s 873us/step - loss: 0.4127 - accuracy: 0.8300\n",
            "Epoch 9/50\n",
            "800/800 [==============================] - 1s 880us/step - loss: 0.4114 - accuracy: 0.8328\n",
            "Epoch 10/50\n",
            "800/800 [==============================] - 1s 856us/step - loss: 0.4107 - accuracy: 0.8335\n",
            "Epoch 11/50\n",
            "800/800 [==============================] - 1s 876us/step - loss: 0.4101 - accuracy: 0.8338\n",
            "Epoch 12/50\n",
            "800/800 [==============================] - 1s 882us/step - loss: 0.4094 - accuracy: 0.8335\n",
            "Epoch 13/50\n",
            "800/800 [==============================] - 1s 920us/step - loss: 0.4084 - accuracy: 0.8341\n",
            "Epoch 14/50\n",
            "800/800 [==============================] - 1s 851us/step - loss: 0.4084 - accuracy: 0.8329\n",
            "Epoch 15/50\n",
            "800/800 [==============================] - 1s 914us/step - loss: 0.4074 - accuracy: 0.8340\n",
            "Epoch 16/50\n",
            "800/800 [==============================] - 1s 858us/step - loss: 0.4069 - accuracy: 0.8345\n",
            "Epoch 17/50\n",
            "800/800 [==============================] - 1s 905us/step - loss: 0.4063 - accuracy: 0.8349\n",
            "Epoch 18/50\n",
            "800/800 [==============================] - 1s 958us/step - loss: 0.4063 - accuracy: 0.8334\n",
            "Epoch 19/50\n",
            "800/800 [==============================] - 1s 914us/step - loss: 0.4056 - accuracy: 0.8357\n",
            "Epoch 20/50\n",
            "800/800 [==============================] - 1s 884us/step - loss: 0.4050 - accuracy: 0.8342\n",
            "Epoch 21/50\n",
            "800/800 [==============================] - 1s 948us/step - loss: 0.4048 - accuracy: 0.8356\n",
            "Epoch 22/50\n",
            "800/800 [==============================] - 1s 925us/step - loss: 0.4051 - accuracy: 0.8354\n",
            "Epoch 23/50\n",
            "800/800 [==============================] - 1s 901us/step - loss: 0.4044 - accuracy: 0.8351\n",
            "Epoch 24/50\n",
            "800/800 [==============================] - 1s 878us/step - loss: 0.4042 - accuracy: 0.8340\n",
            "Epoch 25/50\n",
            "800/800 [==============================] - 1s 897us/step - loss: 0.4034 - accuracy: 0.8353\n",
            "Epoch 26/50\n",
            "800/800 [==============================] - 1s 894us/step - loss: 0.4038 - accuracy: 0.8330\n",
            "Epoch 27/50\n",
            "800/800 [==============================] - 1s 860us/step - loss: 0.4041 - accuracy: 0.8347\n",
            "Epoch 28/50\n",
            "800/800 [==============================] - 1s 894us/step - loss: 0.4037 - accuracy: 0.8338\n",
            "Epoch 29/50\n",
            "800/800 [==============================] - 1s 888us/step - loss: 0.4033 - accuracy: 0.8353\n",
            "Epoch 30/50\n",
            "800/800 [==============================] - 1s 877us/step - loss: 0.4033 - accuracy: 0.8345\n",
            "Epoch 31/50\n",
            "800/800 [==============================] - 1s 897us/step - loss: 0.4039 - accuracy: 0.8353\n",
            "Epoch 32/50\n",
            "800/800 [==============================] - 1s 962us/step - loss: 0.4030 - accuracy: 0.8344\n",
            "Epoch 33/50\n",
            "800/800 [==============================] - 1s 896us/step - loss: 0.4032 - accuracy: 0.8346\n",
            "Epoch 34/50\n",
            "800/800 [==============================] - 1s 934us/step - loss: 0.4032 - accuracy: 0.8356\n",
            "Epoch 35/50\n",
            "800/800 [==============================] - 1s 901us/step - loss: 0.4031 - accuracy: 0.8336\n",
            "Epoch 36/50\n",
            "800/800 [==============================] - 1s 871us/step - loss: 0.4030 - accuracy: 0.8332\n",
            "Epoch 37/50\n",
            "800/800 [==============================] - 1s 895us/step - loss: 0.4026 - accuracy: 0.8354\n",
            "Epoch 38/50\n",
            "800/800 [==============================] - 1s 914us/step - loss: 0.4023 - accuracy: 0.8347\n",
            "Epoch 39/50\n",
            "800/800 [==============================] - 1s 910us/step - loss: 0.4029 - accuracy: 0.8351\n",
            "Epoch 40/50\n",
            "800/800 [==============================] - 1s 928us/step - loss: 0.4026 - accuracy: 0.8346\n",
            "Epoch 41/50\n",
            "800/800 [==============================] - 1s 876us/step - loss: 0.4027 - accuracy: 0.8353\n",
            "Epoch 42/50\n",
            "800/800 [==============================] - 1s 907us/step - loss: 0.4024 - accuracy: 0.8355\n",
            "Epoch 43/50\n",
            "800/800 [==============================] - 1s 914us/step - loss: 0.4029 - accuracy: 0.8339\n",
            "Epoch 44/50\n",
            "800/800 [==============================] - 1s 895us/step - loss: 0.4025 - accuracy: 0.8350\n",
            "Epoch 45/50\n",
            "800/800 [==============================] - 1s 903us/step - loss: 0.4025 - accuracy: 0.8356\n",
            "Epoch 46/50\n",
            "800/800 [==============================] - 1s 905us/step - loss: 0.4022 - accuracy: 0.8342\n",
            "Epoch 47/50\n",
            "800/800 [==============================] - 1s 928us/step - loss: 0.4030 - accuracy: 0.8356\n",
            "Epoch 48/50\n",
            "800/800 [==============================] - 1s 904us/step - loss: 0.4020 - accuracy: 0.8339\n",
            "Epoch 49/50\n",
            "800/800 [==============================] - 1s 898us/step - loss: 0.4030 - accuracy: 0.8346\n",
            "Epoch 50/50\n",
            "800/800 [==============================] - 1s 940us/step - loss: 0.4025 - accuracy: 0.8340\n"
          ],
          "name": "stdout"
        },
        {
          "output_type": "execute_result",
          "data": {
            "text/plain": [
              "<tensorflow.python.keras.callbacks.History at 0x7fbd06375b00>"
            ]
          },
          "metadata": {
            "tags": []
          },
          "execution_count": 8
        }
      ]
    },
    {
      "cell_type": "code",
      "metadata": {
        "id": "W8oUFFXTxwZE"
      },
      "source": [
        "\n",
        "# Predicting the Test set results\n",
        "y_pred = classifier.predict(X_test)\n",
        "y_pred = (y_pred > 0.5)\n",
        "\n",
        "# Making the Confusion Matrix\n",
        "from sklearn.metrics import confusion_matrix,accuracy_score\n",
        "cm = confusion_matrix(y_test, y_pred)\n",
        "accuracy=accuracy_score(y_test,y_pred)"
      ],
      "execution_count": 9,
      "outputs": []
    },
    {
      "cell_type": "code",
      "metadata": {
        "id": "L4ypFHq-x2cN",
        "outputId": "52a544f1-f841-4c96-c1e8-c3ac170683cd",
        "colab": {
          "base_uri": "https://localhost:8080/",
          "height": 35
        }
      },
      "source": [
        "accuracy"
      ],
      "execution_count": 10,
      "outputs": [
        {
          "output_type": "execute_result",
          "data": {
            "text/plain": [
              "0.842"
            ]
          },
          "metadata": {
            "tags": []
          },
          "execution_count": 10
        }
      ]
    },
    {
      "cell_type": "code",
      "metadata": {
        "id": "DIFXe7Dwx6bh",
        "outputId": "b0498926-8968-4b7d-8038-dd76221c450e",
        "colab": {
          "base_uri": "https://localhost:8080/",
          "height": 54
        }
      },
      "source": [
        "cm"
      ],
      "execution_count": 11,
      "outputs": [
        {
          "output_type": "execute_result",
          "data": {
            "text/plain": [
              "array([[1550,   45],\n",
              "       [ 271,  134]])"
            ]
          },
          "metadata": {
            "tags": []
          },
          "execution_count": 11
        }
      ]
    }
  ]
}