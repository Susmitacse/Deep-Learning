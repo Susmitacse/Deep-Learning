{
  "nbformat": 4,
  "nbformat_minor": 0,
  "metadata": {
    "colab": {
      "name": "linear_regression.ipynb",
      "provenance": [],
      "authorship_tag": "ABX9TyMKrZiWJ/cyWkhPHeX1dN5K"
    },
    "kernelspec": {
      "name": "python3",
      "display_name": "Python 3"
    },
    "language_info": {
      "name": "python"
    }
  },
  "cells": [
    {
      "cell_type": "markdown",
      "metadata": {
        "id": "14EN1tRpyDWy"
      },
      "source": [
        "# Predicting the yeild of apples and oranges based on temperature, rainfall and humidity\n",
        "![linear-regression-training-data](https://i.imgur.com/6Ujttb4.png)"
      ]
    },
    {
      "cell_type": "code",
      "metadata": {
        "id": "op5qXCqoPGnT"
      },
      "source": [
        "import numpy as np\n",
        "import torch"
      ],
      "execution_count": 102,
      "outputs": []
    },
    {
      "cell_type": "code",
      "metadata": {
        "id": "6EL5b6XlPNqJ"
      },
      "source": [
        "# Input (temp, rainfall, humidity)\n",
        "inputs = np.array([[73, 67, 43], \n",
        "                   [91, 88, 64], \n",
        "                   [87, 134, 58], \n",
        "                   [102, 43, 37], \n",
        "                   [69, 96, 70]], dtype='float32')"
      ],
      "execution_count": 103,
      "outputs": []
    },
    {
      "cell_type": "code",
      "metadata": {
        "id": "gDxfG13xPVne"
      },
      "source": [
        "# Targets (apples, oranges)\n",
        "targets = np.array([[56, 70], \n",
        "                    [81, 101], \n",
        "                    [119, 133], \n",
        "                    [22, 37], \n",
        "                    [103, 119]], dtype='float32')"
      ],
      "execution_count": 104,
      "outputs": []
    },
    {
      "cell_type": "code",
      "metadata": {
        "colab": {
          "base_uri": "https://localhost:8080/"
        },
        "id": "vsx8RIiZPbTH",
        "outputId": "2a105b54-f0ba-4482-8eae-204f533016eb"
      },
      "source": [
        "inputs = torch.from_numpy(inputs)\n",
        "targets = torch.from_numpy(targets)\n",
        "print(inputs)\n",
        "print(targets)"
      ],
      "execution_count": 105,
      "outputs": [
        {
          "output_type": "stream",
          "name": "stdout",
          "text": [
            "tensor([[ 73.,  67.,  43.],\n",
            "        [ 91.,  88.,  64.],\n",
            "        [ 87., 134.,  58.],\n",
            "        [102.,  43.,  37.],\n",
            "        [ 69.,  96.,  70.]])\n",
            "tensor([[ 56.,  70.],\n",
            "        [ 81., 101.],\n",
            "        [119., 133.],\n",
            "        [ 22.,  37.],\n",
            "        [103., 119.]])\n"
          ]
        }
      ]
    },
    {
      "cell_type": "code",
      "metadata": {
        "colab": {
          "base_uri": "https://localhost:8080/"
        },
        "id": "AhiYsQlGP-Ym",
        "outputId": "bb183d77-08aa-4ad6-df3c-13ce007ce846"
      },
      "source": [
        "w = torch.randn(2, 3, requires_grad=True)\n",
        "b = torch.randn(2, requires_grad=True)\n",
        "print(w)\n",
        "print(b)"
      ],
      "execution_count": 106,
      "outputs": [
        {
          "output_type": "stream",
          "name": "stdout",
          "text": [
            "tensor([[-0.4363,  1.0593,  2.1191],\n",
            "        [ 0.4323,  0.7754, -0.3234]], requires_grad=True)\n",
            "tensor([-2.2620,  0.4004], requires_grad=True)\n"
          ]
        }
      ]
    },
    {
      "cell_type": "code",
      "metadata": {
        "id": "Caxblf2fSqoa"
      },
      "source": [
        "def model(x):\n",
        "  return x @ w.t() + b"
      ],
      "execution_count": 107,
      "outputs": []
    },
    {
      "cell_type": "code",
      "metadata": {
        "colab": {
          "base_uri": "https://localhost:8080/"
        },
        "id": "mOnNMi1VS5pw",
        "outputId": "e371bff0-9a4f-4f0c-981d-42ba2cfe7739"
      },
      "source": [
        "preds = model(inputs)\n",
        "print(preds)"
      ],
      "execution_count": 108,
      "outputs": [
        {
          "output_type": "stream",
          "name": "stdout",
          "text": [
            "tensor([[127.9864,  69.9992],\n",
            "        [186.8802,  87.2713],\n",
            "        [224.6405, 123.1502],\n",
            "        [ 77.1962,  65.8660],\n",
            "        [217.6671,  82.0243]], grad_fn=<AddBackward0>)\n"
          ]
        }
      ]
    },
    {
      "cell_type": "code",
      "metadata": {
        "colab": {
          "base_uri": "https://localhost:8080/"
        },
        "id": "Ev-7zkqcTOwG",
        "outputId": "ffb926c1-b0a2-47d9-cb38-cf7ec48e76ac"
      },
      "source": [
        "print(targets)"
      ],
      "execution_count": 109,
      "outputs": [
        {
          "output_type": "stream",
          "name": "stdout",
          "text": [
            "tensor([[ 56.,  70.],\n",
            "        [ 81., 101.],\n",
            "        [119., 133.],\n",
            "        [ 22.,  37.],\n",
            "        [103., 119.]])\n"
          ]
        }
      ]
    },
    {
      "cell_type": "code",
      "metadata": {
        "id": "yY56HlrTS5r5"
      },
      "source": [
        "def mse(t1, t2):\n",
        "  diff = t1-t2\n",
        "  return torch.sum(diff*diff)/diff.numel()\n"
      ],
      "execution_count": 110,
      "outputs": []
    },
    {
      "cell_type": "code",
      "metadata": {
        "colab": {
          "base_uri": "https://localhost:8080/"
        },
        "id": "P4-YZdc5S5uR",
        "outputId": "0bd87215-ffa1-472e-8a22-b3df1e359019"
      },
      "source": [
        "loss = mse(preds, targets)\n",
        "print(loss)"
      ],
      "execution_count": 111,
      "outputs": [
        {
          "output_type": "stream",
          "name": "stdout",
          "text": [
            "tensor(4623.3682, grad_fn=<DivBackward0>)\n"
          ]
        }
      ]
    },
    {
      "cell_type": "code",
      "metadata": {
        "id": "ERJY889pS5wZ"
      },
      "source": [
        "loss.backward()"
      ],
      "execution_count": 112,
      "outputs": []
    },
    {
      "cell_type": "code",
      "metadata": {
        "colab": {
          "base_uri": "https://localhost:8080/"
        },
        "id": "nPR2ce4kS5z_",
        "outputId": "687451e1-6197-46e8-d473-1832479145e9"
      },
      "source": [
        "print(w)\n",
        "print(w.grad)"
      ],
      "execution_count": 113,
      "outputs": [
        {
          "output_type": "stream",
          "name": "stdout",
          "text": [
            "tensor([[-0.4363,  1.0593,  2.1191],\n",
            "        [ 0.4323,  0.7754, -0.3234]], requires_grad=True)\n",
            "tensor([[7524.5737, 8335.5703, 5213.5703],\n",
            "        [-342.6592, -967.2966, -594.0436]])\n"
          ]
        }
      ]
    },
    {
      "cell_type": "code",
      "metadata": {
        "id": "x3HavdtOcvja"
      },
      "source": [
        "with torch.no_grad():\n",
        "  w -= w.grad * 1e-5\n",
        "  b -= b.grad * 1e-5"
      ],
      "execution_count": 114,
      "outputs": []
    },
    {
      "cell_type": "code",
      "metadata": {
        "colab": {
          "base_uri": "https://localhost:8080/"
        },
        "id": "N2uUf7HAcvlv",
        "outputId": "0a0f7b49-11dd-47ff-d05e-32ac497cd2a5"
      },
      "source": [
        "preds = model(inputs)\n",
        "loss = mse(preds, targets)\n",
        "print(loss)"
      ],
      "execution_count": 115,
      "outputs": [
        {
          "output_type": "stream",
          "name": "stdout",
          "text": [
            "tensor(3214.7239, grad_fn=<DivBackward0>)\n"
          ]
        }
      ]
    },
    {
      "cell_type": "code",
      "metadata": {
        "id": "qfYp0VeLcvn8",
        "colab": {
          "base_uri": "https://localhost:8080/"
        },
        "outputId": "37603933-0edd-4ab1-8632-95139c907917"
      },
      "source": [
        "w.grad.zero_()\n",
        "b.grad.zero_()\n",
        "print(w.grad)\n",
        "print(b.grad)"
      ],
      "execution_count": 116,
      "outputs": [
        {
          "output_type": "stream",
          "name": "stdout",
          "text": [
            "tensor([[0., 0., 0.],\n",
            "        [0., 0., 0.]])\n",
            "tensor([0., 0.])\n"
          ]
        }
      ]
    },
    {
      "cell_type": "code",
      "metadata": {
        "id": "Zgpfgb5Dcvqg",
        "colab": {
          "base_uri": "https://localhost:8080/"
        },
        "outputId": "9b40d7f4-7e4e-4cc7-8219-923b5e23ac21"
      },
      "source": [
        "# Generate predictions\n",
        "preds = model(inputs)\n",
        "print(preds)"
      ],
      "execution_count": 117,
      "outputs": [
        {
          "output_type": "stream",
          "name": "stdout",
          "text": [
            "tensor([[114.6659,  71.1529],\n",
            "        [169.3599,  88.8146],\n",
            "        [203.8996, 125.0891],\n",
            "        [ 64.0069,  66.8513],\n",
            "        [200.8226,  83.6052]], grad_fn=<AddBackward0>)\n"
          ]
        }
      ]
    },
    {
      "cell_type": "code",
      "metadata": {
        "id": "rslFO2S_cvtD",
        "colab": {
          "base_uri": "https://localhost:8080/"
        },
        "outputId": "17624f72-ef1b-449c-91c2-ce0a08e65dc3"
      },
      "source": [
        "# Calculate the loss\n",
        "loss = mse(preds, targets)\n",
        "print(loss)"
      ],
      "execution_count": 118,
      "outputs": [
        {
          "output_type": "stream",
          "name": "stdout",
          "text": [
            "tensor(3214.7239, grad_fn=<DivBackward0>)\n"
          ]
        }
      ]
    },
    {
      "cell_type": "code",
      "metadata": {
        "id": "FZXHAvBncvwA",
        "colab": {
          "base_uri": "https://localhost:8080/"
        },
        "outputId": "236cf894-8548-4d50-b1b3-ca93b9b53960"
      },
      "source": [
        "# Compute gradients\n",
        "loss.backward()\n",
        "print(w.grad)\n",
        "print(b.grad)"
      ],
      "execution_count": 119,
      "outputs": [
        {
          "output_type": "stream",
          "name": "stdout",
          "text": [
            "tensor([[6148.8184, 6856.0210, 4300.7363],\n",
            "        [-222.0732, -833.8851, -512.4521]])\n",
            "tensor([74.3510, -4.8974])\n"
          ]
        }
      ]
    },
    {
      "cell_type": "code",
      "metadata": {
        "id": "B4a-qKoCcvzo"
      },
      "source": [
        "# Adjust the wts and reset the gradients\n",
        "with torch.no_grad():\n",
        "  w -= w.grad * 1e-5\n",
        "  b -= b.grad * 1e-5\n",
        "  w.grad.zero_()\n",
        "  b.grad.zero_()\n"
      ],
      "execution_count": 120,
      "outputs": []
    },
    {
      "cell_type": "code",
      "metadata": {
        "colab": {
          "base_uri": "https://localhost:8080/"
        },
        "id": "43luqzFGiEw8",
        "outputId": "90bd0740-d0fd-4d30-9e1e-7946e001543a"
      },
      "source": [
        "print(w)\n",
        "print(b)"
      ],
      "execution_count": 121,
      "outputs": [
        {
          "output_type": "stream",
          "name": "stdout",
          "text": [
            "tensor([[-0.5730,  0.9074,  2.0239],\n",
            "        [ 0.4379,  0.7934, -0.3123]], requires_grad=True)\n",
            "tensor([-2.2637,  0.4005], requires_grad=True)\n"
          ]
        }
      ]
    },
    {
      "cell_type": "code",
      "metadata": {
        "id": "4WZQGyf6iIXc",
        "colab": {
          "base_uri": "https://localhost:8080/"
        },
        "outputId": "85f3b0d7-f949-407c-9a99-768cb5059f27"
      },
      "source": [
        "# With new wts and bias the loss\n",
        "# Calculate loss\n",
        "preds = model(inputs)\n",
        "loss = mse(preds, targets)\n",
        "print(loss)"
      ],
      "execution_count": 122,
      "outputs": [
        {
          "output_type": "stream",
          "name": "stdout",
          "text": [
            "tensor(2264.7183, grad_fn=<DivBackward0>)\n"
          ]
        }
      ]
    },
    {
      "cell_type": "markdown",
      "metadata": {
        "id": "ngr4ls2vi_Tl"
      },
      "source": [
        "Train for multiple epochs"
      ]
    },
    {
      "cell_type": "code",
      "metadata": {
        "id": "HT4esHT5ihNi"
      },
      "source": [
        "for i in range(100):\n",
        "  preds = model(inputs)\n",
        "  loss = mse(preds, targets)\n",
        "  loss.backward()\n",
        "  with torch.no_grad():\n",
        "      w -= w.grad * 1e-5\n",
        "      b -= b.grad * 1e-5\n",
        "      w.grad.zero_()\n",
        "      b.grad.zero_()\n"
      ],
      "execution_count": 123,
      "outputs": []
    },
    {
      "cell_type": "code",
      "metadata": {
        "colab": {
          "base_uri": "https://localhost:8080/"
        },
        "id": "xVi690rijf59",
        "outputId": "25b5c8a5-3e76-4ad3-86e2-ea4663c9ce3e"
      },
      "source": [
        "# Once again verify the loss\n",
        "preds = model(inputs)\n",
        "loss = mse(preds, targets)\n",
        "print(loss)"
      ],
      "execution_count": 124,
      "outputs": [
        {
          "output_type": "stream",
          "name": "stdout",
          "text": [
            "tensor(165.7945, grad_fn=<DivBackward0>)\n"
          ]
        }
      ]
    },
    {
      "cell_type": "code",
      "metadata": {
        "colab": {
          "base_uri": "https://localhost:8080/"
        },
        "id": "ENC4UkQ8j5M2",
        "outputId": "08d159f1-7cd3-4df8-f3f4-e97979e77e7c"
      },
      "source": [
        "# Compare with the model's prediction with the actual value\n",
        "preds"
      ],
      "execution_count": 125,
      "outputs": [
        {
          "output_type": "execute_result",
          "data": {
            "text/plain": [
              "tensor([[ 54.6960,  74.0468],\n",
              "        [ 89.1131,  94.8491],\n",
              "        [106.9486, 140.1897],\n",
              "        [  9.7988,  57.5100],\n",
              "        [120.0720,  97.1299]], grad_fn=<AddBackward0>)"
            ]
          },
          "metadata": {},
          "execution_count": 125
        }
      ]
    },
    {
      "cell_type": "code",
      "metadata": {
        "colab": {
          "base_uri": "https://localhost:8080/"
        },
        "id": "UzDgviuxkIX7",
        "outputId": "5df6dd3c-838c-4a00-8dd0-2b8b8fc39bbb"
      },
      "source": [
        "targets"
      ],
      "execution_count": 126,
      "outputs": [
        {
          "output_type": "execute_result",
          "data": {
            "text/plain": [
              "tensor([[ 56.,  70.],\n",
              "        [ 81., 101.],\n",
              "        [119., 133.],\n",
              "        [ 22.,  37.],\n",
              "        [103., 119.]])"
            ]
          },
          "metadata": {},
          "execution_count": 126
        }
      ]
    },
    {
      "cell_type": "code",
      "metadata": {
        "id": "WXOtiXFPkMRJ"
      },
      "source": [
        "# The predictions are much closer to the actual values\n",
        "# This was done with the basic operations of tensors and now lets try with the inbuilt functions"
      ],
      "execution_count": 127,
      "outputs": []
    },
    {
      "cell_type": "markdown",
      "metadata": {
        "id": "c6nD-4WfktC4"
      },
      "source": [
        "#\n",
        "#Implementing the model with the Pytorch's inbuilt functions"
      ]
    },
    {
      "cell_type": "code",
      "metadata": {
        "id": "K4XgFIgglIeo"
      },
      "source": [
        "import torch.nn as nn"
      ],
      "execution_count": 128,
      "outputs": []
    },
    {
      "cell_type": "code",
      "metadata": {
        "id": "ISQGasfGlIhX"
      },
      "source": [
        "# Input (temp, rainfall, humidity)\n",
        "inputs = np.array([[73, 67, 43], \n",
        "                   [91, 88, 64], \n",
        "                   [87, 134, 58], \n",
        "                   [102, 43, 37], \n",
        "                   [69, 96, 70], \n",
        "                   [74, 66, 43], \n",
        "                   [91, 87, 65], \n",
        "                   [88, 134, 59], \n",
        "                   [101, 44, 37], \n",
        "                   [68, 96, 71], \n",
        "                   [73, 66, 44], \n",
        "                   [92, 87, 64], \n",
        "                   [87, 135, 57], \n",
        "                   [103, 43, 36], \n",
        "                   [68, 97, 70]], \n",
        "                  dtype='float32')\n",
        "\n",
        "# Targets (apples, oranges)\n",
        "targets = np.array([[56, 70], \n",
        "                    [81, 101], \n",
        "                    [119, 133], \n",
        "                    [22, 37], \n",
        "                    [103, 119],\n",
        "                    [57, 69], \n",
        "                    [80, 102], \n",
        "                    [118, 132], \n",
        "                    [21, 38], \n",
        "                    [104, 118], \n",
        "                    [57, 69], \n",
        "                    [82, 100], \n",
        "                    [118, 134], \n",
        "                    [20, 38], \n",
        "                    [102, 120]], \n",
        "                   dtype='float32')"
      ],
      "execution_count": 129,
      "outputs": []
    },
    {
      "cell_type": "code",
      "metadata": {
        "id": "g662osaKlIjq"
      },
      "source": [
        "inputs = torch.from_numpy(inputs)\n",
        "targets = torch.from_numpy(targets)"
      ],
      "execution_count": 130,
      "outputs": []
    },
    {
      "cell_type": "code",
      "metadata": {
        "colab": {
          "base_uri": "https://localhost:8080/"
        },
        "id": "Mixn3gnVlImj",
        "outputId": "684afcaf-9c44-4a82-f004-9f488d9bfc84"
      },
      "source": [
        "inputs"
      ],
      "execution_count": 131,
      "outputs": [
        {
          "output_type": "execute_result",
          "data": {
            "text/plain": [
              "tensor([[ 73.,  67.,  43.],\n",
              "        [ 91.,  88.,  64.],\n",
              "        [ 87., 134.,  58.],\n",
              "        [102.,  43.,  37.],\n",
              "        [ 69.,  96.,  70.],\n",
              "        [ 74.,  66.,  43.],\n",
              "        [ 91.,  87.,  65.],\n",
              "        [ 88., 134.,  59.],\n",
              "        [101.,  44.,  37.],\n",
              "        [ 68.,  96.,  71.],\n",
              "        [ 73.,  66.,  44.],\n",
              "        [ 92.,  87.,  64.],\n",
              "        [ 87., 135.,  57.],\n",
              "        [103.,  43.,  36.],\n",
              "        [ 68.,  97.,  70.]])"
            ]
          },
          "metadata": {},
          "execution_count": 131
        }
      ]
    },
    {
      "cell_type": "code",
      "metadata": {
        "colab": {
          "base_uri": "https://localhost:8080/"
        },
        "id": "ZX6uQGmWlIpE",
        "outputId": "4f752d57-b2a8-4186-d19c-bfe69c765c0d"
      },
      "source": [
        "targets"
      ],
      "execution_count": 132,
      "outputs": [
        {
          "output_type": "execute_result",
          "data": {
            "text/plain": [
              "tensor([[ 56.,  70.],\n",
              "        [ 81., 101.],\n",
              "        [119., 133.],\n",
              "        [ 22.,  37.],\n",
              "        [103., 119.],\n",
              "        [ 57.,  69.],\n",
              "        [ 80., 102.],\n",
              "        [118., 132.],\n",
              "        [ 21.,  38.],\n",
              "        [104., 118.],\n",
              "        [ 57.,  69.],\n",
              "        [ 82., 100.],\n",
              "        [118., 134.],\n",
              "        [ 20.,  38.],\n",
              "        [102., 120.]])"
            ]
          },
          "metadata": {},
          "execution_count": 132
        }
      ]
    },
    {
      "cell_type": "code",
      "metadata": {
        "id": "si59EamwlIrb"
      },
      "source": [
        "from torch.utils.data import TensorDataset"
      ],
      "execution_count": 133,
      "outputs": []
    },
    {
      "cell_type": "code",
      "metadata": {
        "colab": {
          "base_uri": "https://localhost:8080/"
        },
        "id": "M7ZZfuhXlIu4",
        "outputId": "0a76433d-5e1b-46f9-cbab-8b6249245e2e"
      },
      "source": [
        "# Define datasets\n",
        "# The TensorDataset allows us to access a small section of the training data using the array indexing notation ([0:3] in the above code). It returns a tuple with two elements. The first element contains the input variables for the selected rows, and the second contains the targets.\n",
        "train_ds = TensorDataset(inputs, targets)\n",
        "train_ds[0:3]"
      ],
      "execution_count": 134,
      "outputs": [
        {
          "output_type": "execute_result",
          "data": {
            "text/plain": [
              "(tensor([[ 73.,  67.,  43.],\n",
              "         [ 91.,  88.,  64.],\n",
              "         [ 87., 134.,  58.]]), tensor([[ 56.,  70.],\n",
              "         [ 81., 101.],\n",
              "         [119., 133.]]))"
            ]
          },
          "metadata": {},
          "execution_count": 134
        }
      ]
    },
    {
      "cell_type": "code",
      "metadata": {
        "id": "o-xHe3ydlIx2"
      },
      "source": [
        "from torch.utils.data import DataLoader"
      ],
      "execution_count": 135,
      "outputs": []
    },
    {
      "cell_type": "code",
      "metadata": {
        "id": "7lTuMRtZlI0l"
      },
      "source": [
        "# DataLoader splits the data into batches of a predefined size while training . It provides shuffling and random shuffling as well\n",
        "\n",
        "batch_size = 5\n",
        "train_dl = DataLoader(train_ds, batch_size, shuffle=True)"
      ],
      "execution_count": 136,
      "outputs": []
    },
    {
      "cell_type": "code",
      "metadata": {
        "colab": {
          "base_uri": "https://localhost:8080/"
        },
        "id": "ef5H6lDwqNZb",
        "outputId": "62355532-31fa-4d9b-f514-a8acfffb7fcb"
      },
      "source": [
        "# For loading in multiple batches\n",
        "for xb, yb in train_dl:\n",
        "  print(xb)\n",
        "  print(yb)\n",
        "  break"
      ],
      "execution_count": 137,
      "outputs": [
        {
          "output_type": "stream",
          "name": "stdout",
          "text": [
            "tensor([[102.,  43.,  37.],\n",
            "        [ 73.,  66.,  44.],\n",
            "        [101.,  44.,  37.],\n",
            "        [ 68.,  96.,  71.],\n",
            "        [ 91.,  87.,  65.]])\n",
            "tensor([[ 22.,  37.],\n",
            "        [ 57.,  69.],\n",
            "        [ 21.,  38.],\n",
            "        [104., 118.],\n",
            "        [ 80., 102.]])\n"
          ]
        }
      ]
    },
    {
      "cell_type": "code",
      "metadata": {
        "colab": {
          "base_uri": "https://localhost:8080/"
        },
        "id": "yaVBBgO-qNcV",
        "outputId": "26a59caf-0fdf-4716-a849-69ed4199edac"
      },
      "source": [
        "# Define the model\n",
        "model = nn.Linear(3,2)\n",
        "print(model.weight)\n",
        "print(model.bias)"
      ],
      "execution_count": 138,
      "outputs": [
        {
          "output_type": "stream",
          "name": "stdout",
          "text": [
            "Parameter containing:\n",
            "tensor([[ 0.3539,  0.0343, -0.0590],\n",
            "        [-0.2373,  0.2988, -0.5313]], requires_grad=True)\n",
            "Parameter containing:\n",
            "tensor([ 0.1906, -0.0402], requires_grad=True)\n"
          ]
        }
      ]
    },
    {
      "cell_type": "code",
      "metadata": {
        "colab": {
          "base_uri": "https://localhost:8080/"
        },
        "id": "xfqfa6RpqNfV",
        "outputId": "3a41a614-5c9c-48fe-8ee3-b563c9b41e7f"
      },
      "source": [
        "list(model.parameters())"
      ],
      "execution_count": 139,
      "outputs": [
        {
          "output_type": "execute_result",
          "data": {
            "text/plain": [
              "[Parameter containing:\n",
              " tensor([[ 0.3539,  0.0343, -0.0590],\n",
              "         [-0.2373,  0.2988, -0.5313]], requires_grad=True),\n",
              " Parameter containing:\n",
              " tensor([ 0.1906, -0.0402], requires_grad=True)]"
            ]
          },
          "metadata": {},
          "execution_count": 139
        }
      ]
    },
    {
      "cell_type": "code",
      "metadata": {
        "colab": {
          "base_uri": "https://localhost:8080/"
        },
        "id": "sY9Kc3UqqNiM",
        "outputId": "a35934a9-993d-47ad-d0c1-670c24820664"
      },
      "source": [
        "preds = model(inputs)\n",
        "print(preds)"
      ],
      "execution_count": 140,
      "outputs": [
        {
          "output_type": "stream",
          "name": "stdout",
          "text": [
            "tensor([[ 25.7877, -20.1892],\n",
            "        [ 31.6392, -29.3435],\n",
            "        [ 32.1556, -11.4617],\n",
            "        [ 35.5828, -31.0529],\n",
            "        [ 23.7729, -24.9213],\n",
            "        [ 26.1074, -20.7252],\n",
            "        [ 31.5459, -30.1736],\n",
            "        [ 32.4505, -12.2303],\n",
            "        [ 35.2632, -30.5169],\n",
            "        [ 23.3599, -25.2154],\n",
            "        [ 25.6944, -21.0193],\n",
            "        [ 31.9589, -29.8795],\n",
            "        [ 32.2489, -10.6316],\n",
            "        [ 35.9958, -30.7589],\n",
            "        [ 23.4533, -24.3852]], grad_fn=<AddmmBackward>)\n"
          ]
        }
      ]
    },
    {
      "cell_type": "code",
      "metadata": {
        "id": "d_yvmBX3qNlo"
      },
      "source": [
        "import torch.nn.functional as F"
      ],
      "execution_count": 141,
      "outputs": []
    },
    {
      "cell_type": "code",
      "metadata": {
        "id": "Xju7-s-UqNoX"
      },
      "source": [
        "loss_fn = F.mse_loss"
      ],
      "execution_count": 142,
      "outputs": []
    },
    {
      "cell_type": "code",
      "metadata": {
        "colab": {
          "base_uri": "https://localhost:8080/"
        },
        "id": "ArdNzsTHqNrk",
        "outputId": "edc23f8a-e0c4-40df-8557-b147832fd551"
      },
      "source": [
        "loss = loss_fn(model(inputs), targets)\n",
        "print(loss)"
      ],
      "execution_count": 143,
      "outputs": [
        {
          "output_type": "stream",
          "name": "stdout",
          "text": [
            "tensor(8875.7754, grad_fn=<MseLossBackward>)\n"
          ]
        }
      ]
    },
    {
      "cell_type": "code",
      "metadata": {
        "id": "qdS2H4cAlI2X"
      },
      "source": [
        "# Optimization\n",
        "opt = torch.optim.SGD(model.parameters(), lr=1e-5)"
      ],
      "execution_count": 144,
      "outputs": []
    },
    {
      "cell_type": "code",
      "metadata": {
        "id": "VaDy6E0qNMDA"
      },
      "source": [
        "# Utility function to train the model\n",
        "def fit(num_epochs, model, loss_fn, opt, train_dl):\n",
        "    \n",
        "    # Repeat for given number of epochs\n",
        "    for epoch in range(num_epochs):\n",
        "        \n",
        "        # Train with batches of data\n",
        "        for xb,yb in train_dl:\n",
        "            \n",
        "            # 1. Generate predictions\n",
        "            pred = model(xb)\n",
        "            \n",
        "            # 2. Calculate loss\n",
        "            loss = loss_fn(pred, yb)\n",
        "            \n",
        "            # 3. Compute gradients\n",
        "            loss.backward()\n",
        "            \n",
        "            # 4. Update parameters using gradients\n",
        "            opt.step()\n",
        "            \n",
        "            # 5. Reset the gradients to zero\n",
        "            opt.zero_grad()\n",
        "        \n",
        "        # Print the progress\n",
        "        if (epoch+1) % 10 == 0:\n",
        "            print('Epoch [{}/{}], Loss: {:.4f}'.format(epoch+1, num_epochs, loss.item()))"
      ],
      "execution_count": 145,
      "outputs": []
    },
    {
      "cell_type": "code",
      "metadata": {
        "colab": {
          "base_uri": "https://localhost:8080/"
        },
        "id": "zC6nxonWsGNA",
        "outputId": "7c274a8c-f2f5-44ff-8b8d-96e0a14f3033"
      },
      "source": [
        "fit(1000, model, loss_fn, opt, train_dl)"
      ],
      "execution_count": 151,
      "outputs": [
        {
          "output_type": "stream",
          "name": "stdout",
          "text": [
            "Epoch [10/1000], Loss: 28.1430\n",
            "Epoch [20/1000], Loss: 52.2499\n",
            "Epoch [30/1000], Loss: 39.2448\n",
            "Epoch [40/1000], Loss: 31.4048\n",
            "Epoch [50/1000], Loss: 49.3599\n",
            "Epoch [60/1000], Loss: 32.0856\n",
            "Epoch [70/1000], Loss: 34.2993\n",
            "Epoch [80/1000], Loss: 31.4401\n",
            "Epoch [90/1000], Loss: 20.4156\n",
            "Epoch [100/1000], Loss: 26.2051\n",
            "Epoch [110/1000], Loss: 34.8386\n",
            "Epoch [120/1000], Loss: 12.5419\n",
            "Epoch [130/1000], Loss: 26.0029\n",
            "Epoch [140/1000], Loss: 21.0050\n",
            "Epoch [150/1000], Loss: 15.2140\n",
            "Epoch [160/1000], Loss: 20.2617\n",
            "Epoch [170/1000], Loss: 10.8688\n",
            "Epoch [180/1000], Loss: 15.9003\n",
            "Epoch [190/1000], Loss: 4.9559\n",
            "Epoch [200/1000], Loss: 20.4173\n",
            "Epoch [210/1000], Loss: 10.2079\n",
            "Epoch [220/1000], Loss: 22.3665\n",
            "Epoch [230/1000], Loss: 16.3410\n",
            "Epoch [240/1000], Loss: 12.4336\n",
            "Epoch [250/1000], Loss: 9.1412\n",
            "Epoch [260/1000], Loss: 10.1669\n",
            "Epoch [270/1000], Loss: 10.3128\n",
            "Epoch [280/1000], Loss: 4.1974\n",
            "Epoch [290/1000], Loss: 10.7978\n",
            "Epoch [300/1000], Loss: 9.3061\n",
            "Epoch [310/1000], Loss: 7.0001\n",
            "Epoch [320/1000], Loss: 6.8362\n",
            "Epoch [330/1000], Loss: 11.8453\n",
            "Epoch [340/1000], Loss: 10.6464\n",
            "Epoch [350/1000], Loss: 5.7443\n",
            "Epoch [360/1000], Loss: 6.0429\n",
            "Epoch [370/1000], Loss: 7.8298\n",
            "Epoch [380/1000], Loss: 5.5804\n",
            "Epoch [390/1000], Loss: 6.5793\n",
            "Epoch [400/1000], Loss: 6.0859\n",
            "Epoch [410/1000], Loss: 5.9667\n",
            "Epoch [420/1000], Loss: 3.9131\n",
            "Epoch [430/1000], Loss: 4.9303\n",
            "Epoch [440/1000], Loss: 4.8771\n",
            "Epoch [450/1000], Loss: 5.0265\n",
            "Epoch [460/1000], Loss: 2.6363\n",
            "Epoch [470/1000], Loss: 4.5248\n",
            "Epoch [480/1000], Loss: 5.4830\n",
            "Epoch [490/1000], Loss: 3.1759\n",
            "Epoch [500/1000], Loss: 4.5984\n",
            "Epoch [510/1000], Loss: 2.1652\n",
            "Epoch [520/1000], Loss: 1.6137\n",
            "Epoch [530/1000], Loss: 4.2251\n",
            "Epoch [540/1000], Loss: 3.0314\n",
            "Epoch [550/1000], Loss: 3.5808\n",
            "Epoch [560/1000], Loss: 3.8008\n",
            "Epoch [570/1000], Loss: 3.3377\n",
            "Epoch [580/1000], Loss: 2.8866\n",
            "Epoch [590/1000], Loss: 2.4503\n",
            "Epoch [600/1000], Loss: 1.4544\n",
            "Epoch [610/1000], Loss: 3.1433\n",
            "Epoch [620/1000], Loss: 3.2833\n",
            "Epoch [630/1000], Loss: 1.3021\n",
            "Epoch [640/1000], Loss: 2.1725\n",
            "Epoch [650/1000], Loss: 2.1865\n",
            "Epoch [660/1000], Loss: 1.2547\n",
            "Epoch [670/1000], Loss: 1.7397\n",
            "Epoch [680/1000], Loss: 1.6616\n",
            "Epoch [690/1000], Loss: 1.9859\n",
            "Epoch [700/1000], Loss: 1.1350\n",
            "Epoch [710/1000], Loss: 2.2593\n",
            "Epoch [720/1000], Loss: 0.9643\n",
            "Epoch [730/1000], Loss: 1.2692\n",
            "Epoch [740/1000], Loss: 1.6372\n",
            "Epoch [750/1000], Loss: 1.7434\n",
            "Epoch [760/1000], Loss: 1.5942\n",
            "Epoch [770/1000], Loss: 2.2234\n",
            "Epoch [780/1000], Loss: 1.3563\n",
            "Epoch [790/1000], Loss: 1.4823\n",
            "Epoch [800/1000], Loss: 1.2543\n",
            "Epoch [810/1000], Loss: 0.9521\n",
            "Epoch [820/1000], Loss: 1.1624\n",
            "Epoch [830/1000], Loss: 1.2179\n",
            "Epoch [840/1000], Loss: 1.3465\n",
            "Epoch [850/1000], Loss: 1.1758\n",
            "Epoch [860/1000], Loss: 1.0250\n",
            "Epoch [870/1000], Loss: 1.5829\n",
            "Epoch [880/1000], Loss: 1.1727\n",
            "Epoch [890/1000], Loss: 1.4268\n",
            "Epoch [900/1000], Loss: 1.8508\n",
            "Epoch [910/1000], Loss: 0.9299\n",
            "Epoch [920/1000], Loss: 0.7716\n",
            "Epoch [930/1000], Loss: 0.8493\n",
            "Epoch [940/1000], Loss: 1.2410\n",
            "Epoch [950/1000], Loss: 1.2427\n",
            "Epoch [960/1000], Loss: 1.0382\n",
            "Epoch [970/1000], Loss: 1.1854\n",
            "Epoch [980/1000], Loss: 1.1912\n",
            "Epoch [990/1000], Loss: 1.4990\n",
            "Epoch [1000/1000], Loss: 1.0190\n"
          ]
        }
      ]
    },
    {
      "cell_type": "code",
      "metadata": {
        "id": "5wmHa1T6sGQF",
        "colab": {
          "base_uri": "https://localhost:8080/"
        },
        "outputId": "e1ccdbef-d692-40c7-82c7-6084bc5d2c4b"
      },
      "source": [
        "# genrate predictions \n",
        "preds = model(inputs)\n",
        "print(preds)"
      ],
      "execution_count": 152,
      "outputs": [
        {
          "output_type": "stream",
          "name": "stdout",
          "text": [
            "tensor([[ 57.0150,  70.4228],\n",
            "        [ 81.9003, 100.2622],\n",
            "        [118.4993, 133.3882],\n",
            "        [ 20.9033,  37.9098],\n",
            "        [101.6104, 117.9224],\n",
            "        [ 55.7640,  69.3386],\n",
            "        [ 81.7308, 100.3064],\n",
            "        [118.7776, 133.9625],\n",
            "        [ 22.1543,  38.9940],\n",
            "        [102.6919, 119.0508],\n",
            "        [ 56.8455,  70.4670],\n",
            "        [ 80.6493,  99.1780],\n",
            "        [118.6688, 133.3439],\n",
            "        [ 19.8218,  36.7814],\n",
            "        [102.8615, 119.0065]], grad_fn=<AddmmBackward>)\n"
          ]
        }
      ]
    },
    {
      "cell_type": "code",
      "metadata": {
        "id": "8FcZpSfxsGS8",
        "colab": {
          "base_uri": "https://localhost:8080/"
        },
        "outputId": "df880cb5-3ff3-4877-ce9e-3c397952f9fc"
      },
      "source": [
        "targets"
      ],
      "execution_count": 153,
      "outputs": [
        {
          "output_type": "execute_result",
          "data": {
            "text/plain": [
              "tensor([[ 56.,  70.],\n",
              "        [ 81., 101.],\n",
              "        [119., 133.],\n",
              "        [ 22.,  37.],\n",
              "        [103., 119.],\n",
              "        [ 57.,  69.],\n",
              "        [ 80., 102.],\n",
              "        [118., 132.],\n",
              "        [ 21.,  38.],\n",
              "        [104., 118.],\n",
              "        [ 57.,  69.],\n",
              "        [ 82., 100.],\n",
              "        [118., 134.],\n",
              "        [ 20.,  38.],\n",
              "        [102., 120.]])"
            ]
          },
          "metadata": {},
          "execution_count": 153
        }
      ]
    },
    {
      "cell_type": "code",
      "metadata": {
        "id": "xRh16hwosGWG"
      },
      "source": [
        "error =mse(preds, targets)"
      ],
      "execution_count": 154,
      "outputs": []
    },
    {
      "cell_type": "code",
      "metadata": {
        "id": "wRfh7VipsGYT",
        "colab": {
          "base_uri": "https://localhost:8080/"
        },
        "outputId": "9f568a69-830f-4984-9565-9490bf889d65"
      },
      "source": [
        "print(error)"
      ],
      "execution_count": 155,
      "outputs": [
        {
          "output_type": "stream",
          "name": "stdout",
          "text": [
            "tensor(1.1328, grad_fn=<DivBackward0>)\n"
          ]
        }
      ]
    },
    {
      "cell_type": "code",
      "metadata": {
        "id": "GOjoF7lLsGb3"
      },
      "source": [
        ""
      ],
      "execution_count": 150,
      "outputs": []
    }
  ]
}